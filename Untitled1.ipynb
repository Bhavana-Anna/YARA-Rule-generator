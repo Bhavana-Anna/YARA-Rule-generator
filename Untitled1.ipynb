{
 "cells": [
  {
   "cell_type": "code",
   "execution_count": 29,
   "id": "081822b8",
   "metadata": {},
   "outputs": [],
   "source": [
    "#Method -1 using sklearn one hot encoding\n",
    "\n",
    "from sklearn.preprocessing import OneHotEncoder\n",
    "#import pandas as pd\n",
    "\n",
    "onehotencoder = OneHotEncoder()\n",
    "\n",
    "data = pd.read_csv('extracted_features.csv')\n",
    "\n",
    "categorical_cols = ['Machine Architecture', 'Subsystem', 'DLL Characteristics', 'Sections', 'Imported Functions', 'Exported Functions', 'Resources', 'Strings', 'TLS Characteristics', 'VersionInformation', 'DebugInformation', 'TLSCallbacks']\n",
    "\n",
    "transformed_data = onehotencoder.fit_transform(data[categorical_cols])\n",
    "\n",
    "# Convert the transformed_data sparse matrix to a DataFrame\n",
    "encoded_data = pd.DataFrame.sparse.from_spmatrix(transformed_data, columns=onehotencoder.get_feature_names_out())\n",
    "\n",
    "# Concatenate the original data and the encoded data using pandas\n",
    "concatenated_data = pd.concat([data['Label'], encoded_data], axis=1)\n",
    "\n",
    "concatenated_data.to_csv('encoded_file_50_encoded_only.csv', index=False)\n",
    "#encoded_data.to_csv('encoded_file_50_encoded_only.csv', index=False)\n"
   ]
  },
  {
   "cell_type": "code",
   "execution_count": 15,
   "id": "12cd1085",
   "metadata": {},
   "outputs": [],
   "source": [
    "#Method -2 using pandas one hot encoding\n",
    "import pandas as pd\n",
    "\n",
    "# Load the CSV file into a pandas DataFrame\n",
    "#input\n",
    "data = pd.read_csv('extracted_features.csv')\n",
    "\n",
    "# Select the columns you want to encode\n",
    "columns_to_encode = ['Label','Machine Architecture', 'Subsystem', 'DLL Characteristics', 'Sections', 'Imported Functions', 'Exported Functions', 'Resources', 'Strings', 'TLS Characteristics', 'VersionInformation', 'DebugInformation', 'TLSCallbacks']\n",
    "\n",
    "# Perform one-hot encoding on the selected columns\n",
    "encoded_data = pd.get_dummies(data, columns=columns_to_encode)\n",
    "\n",
    "# Save the encoded data to a new CSV file\n",
    "encoded_data.to_csv('encoded_file_50_pandas.csv', index=False)"
   ]
  },
  {
   "cell_type": "code",
   "execution_count": 36,
   "id": "3a97ad50",
   "metadata": {},
   "outputs": [
    {
     "name": "stdout",
     "output_type": "stream",
     "text": [
      "Accuracy: 0.926829268292683\n"
     ]
    }
   ],
   "source": [
    "#Using Decision Tree\n",
    "\n",
    "from sklearn.model_selection import train_test_split\n",
    "from sklearn.tree import DecisionTreeClassifier\n",
    "from sklearn.metrics import accuracy_score\n",
    "\n",
    "# Load the encoded CSV files for malware and benign samples\n",
    "#malware_data = pd.read_csv('encoded_file_malware_50_encoded_only.csv')\n",
    "#benign_data = pd.read_csv('encoded_file_b_50_encoded_only.csv')\n",
    "\n",
    "# Concatenate the malware and benign data\n",
    "data = pd.read_csv('encoded_file_50_encoded_only.csv')\n",
    "\n",
    "# Separate the features (X) from the target labels (y)\n",
    "X = data.drop('Label', axis=1)  # Assuming 'Label' is the column name for the target labels\n",
    "y = data['Label']\n",
    "\n",
    "# Split the data into training and testing sets\n",
    "X_train, X_test, y_train, y_test = train_test_split(X, y, test_size=0.4, random_state=42)\n",
    "\n",
    "# Create a decision tree classifier\n",
    "clf = DecisionTreeClassifier()\n",
    "\n",
    "# Train the decision tree classifier\n",
    "clf.fit(X_train, y_train)\n",
    "\n",
    "# Predict on the test set\n",
    "y_pred = clf.predict(X_test)\n",
    "\n",
    "# Calculate the accuracy of the model\n",
    "accuracy = accuracy_score(y_test, y_pred)\n",
    "print('Accuracy:', accuracy)\n"
   ]
  },
  {
   "cell_type": "code",
   "execution_count": 31,
   "id": "867a3216",
   "metadata": {},
   "outputs": [
    {
     "name": "stdout",
     "output_type": "stream",
     "text": [
      "Accuracy: 0.9512195121951219\n"
     ]
    }
   ],
   "source": [
    " #Using SVM \n",
    "\n",
    "from sklearn.model_selection import train_test_split\n",
    "from sklearn.svm import SVC\n",
    "from sklearn.metrics import accuracy_score\n",
    "\n",
    "# Load the dataset\n",
    "data = pd.read_csv('encoded_file_50_encoded_only.csv')\n",
    "\n",
    "# Separate the features (X) from the target labels (y)\n",
    "X = data.drop('Label', axis=1)\n",
    "y = data['Label']\n",
    "\n",
    "# Split the data into training and testing sets\n",
    "X_train, X_test, y_train, y_test = train_test_split(X, y, test_size=0.4, random_state=42)\n",
    "\n",
    "# Create an SVM classifier\n",
    "clf = SVC()\n",
    "\n",
    "# Train the SVM classifier\n",
    "clf.fit(X_train, y_train)\n",
    "\n",
    "# Predict on the test set\n",
    "y_pred = clf.predict(X_test)\n",
    "\n",
    "# Calculate the accuracy of the model\n",
    "accuracy = accuracy_score(y_test, y_pred)\n",
    "print('Accuracy:', accuracy)\n"
   ]
  },
  {
   "cell_type": "code",
   "execution_count": 32,
   "id": "e742b4d7",
   "metadata": {},
   "outputs": [
    {
     "name": "stdout",
     "output_type": "stream",
     "text": [
      "Accuracy: 0.926829268292683\n"
     ]
    }
   ],
   "source": [
    "#Gradient Boost\n",
    "\n",
    "from sklearn.model_selection import train_test_split\n",
    "from sklearn.ensemble import GradientBoostingClassifier\n",
    "from sklearn.metrics import accuracy_score\n",
    "\n",
    "# Load the dataset\n",
    "data = pd.read_csv('encoded_file_50_encoded_only.csv')\n",
    "\n",
    "# Separate the features (X) from the target labels (y)\n",
    "X = data.drop('Label', axis=1)\n",
    "y = data['Label']\n",
    "\n",
    "# Split the data into training and testing sets\n",
    "X_train, X_test, y_train, y_test = train_test_split(X, y, test_size=0.4, random_state=42)\n",
    "\n",
    "# Create a Gradient Boosting classifier\n",
    "clf = GradientBoostingClassifier(random_state=42)\n",
    "\n",
    "# Train the Gradient Boosting classifier\n",
    "clf.fit(X_train, y_train)\n",
    "\n",
    "# Predict on the test set\n",
    "y_pred = clf.predict(X_test)\n",
    "\n",
    "# Calculate the accuracy of the model\n",
    "accuracy = accuracy_score(y_test, y_pred)\n",
    "print('Accuracy:', accuracy)\n"
   ]
  },
  {
   "cell_type": "code",
   "execution_count": 33,
   "id": "526d2bd2",
   "metadata": {},
   "outputs": [
    {
     "name": "stdout",
     "output_type": "stream",
     "text": [
      "Accuracy: 0.9512195121951219\n"
     ]
    }
   ],
   "source": [
    "#random Forest Classifier\n",
    "\n",
    "from sklearn.model_selection import train_test_split\n",
    "from sklearn.ensemble import RandomForestClassifier\n",
    "from sklearn.metrics import accuracy_score\n",
    "\n",
    "# Load the dataset\n",
    "data = pd.read_csv('encoded_file_50_encoded_only.csv')\n",
    "\n",
    "# Separate the features (X) from the target labels (y)\n",
    "X = data.drop('Label', axis=1)\n",
    "y = data['Label']\n",
    "\n",
    "# Split the data into training and testing sets\n",
    "X_train, X_test, y_train, y_test = train_test_split(X, y, test_size=0.4, random_state=42)\n",
    "\n",
    "# Create a Random Forest classifier\n",
    "clf = RandomForestClassifier(random_state=42)\n",
    "\n",
    "# Train the Random Forest classifier\n",
    "clf.fit(X_train, y_train)\n",
    "\n",
    "# Predict on the test set\n",
    "y_pred = clf.predict(X_test)\n",
    "\n",
    "# Calculate the accuracy of the model\n",
    "accuracy = accuracy_score(y_test, y_pred)\n",
    "print('Accuracy:', accuracy)\n"
   ]
  },
  {
   "cell_type": "code",
   "execution_count": 34,
   "id": "404b9d3f",
   "metadata": {},
   "outputs": [
    {
     "name": "stdout",
     "output_type": "stream",
     "text": [
      "Accuracy: 0.926829268292683\n"
     ]
    }
   ],
   "source": [
    "#Naive Bayes \n",
    "\n",
    "from sklearn.model_selection import train_test_split\n",
    "from sklearn.naive_bayes import MultinomialNB\n",
    "from sklearn.metrics import accuracy_score\n",
    "\n",
    "# Load the dataset\n",
    "data = pd.read_csv('encoded_file_50_encoded_only.csv')\n",
    "\n",
    "# Separate the features (X) from the target labels (y)\n",
    "X = data.drop('Label', axis=1)\n",
    "y = data['Label']\n",
    "\n",
    "# Split the data into training and testing sets\n",
    "X_train, X_test, y_train, y_test = train_test_split(X, y, test_size=0.4, random_state=42)\n",
    "\n",
    "# Create a Naive Bayes classifier\n",
    "clf = MultinomialNB()\n",
    "\n",
    "# Train the Naive Bayes classifier\n",
    "clf.fit(X_train, y_train)\n",
    "\n",
    "# Predict on the test set\n",
    "y_pred = clf.predict(X_test)\n",
    "\n",
    "# Calculate the accuracy of the model\n",
    "accuracy = accuracy_score(y_test, y_pred)\n",
    "print('Accuracy:', accuracy)\n"
   ]
  },
  {
   "cell_type": "code",
   "execution_count": 35,
   "id": "e803827a",
   "metadata": {},
   "outputs": [
    {
     "name": "stdout",
     "output_type": "stream",
     "text": [
      "Accuracy: 0.975609756097561\n"
     ]
    }
   ],
   "source": [
    "#LogisticRegression\n",
    "\n",
    "from sklearn.model_selection import train_test_split\n",
    "from sklearn.linear_model import LogisticRegression\n",
    "from sklearn.metrics import accuracy_score\n",
    "\n",
    "# Load the dataset\n",
    "data = pd.read_csv('encoded_file_50_encoded_only.csv')\n",
    "\n",
    "# Separate the features (X) from the target labels (y)\n",
    "X = data.drop('Label', axis=1)\n",
    "y = data['Label']\n",
    "\n",
    "# Split the data into training and testing sets\n",
    "X_train, X_test, y_train, y_test = train_test_split(X, y, test_size=0.4, random_state=42)\n",
    "\n",
    "# Create a Logistic Regression classifier\n",
    "clf = LogisticRegression(random_state=42)\n",
    "\n",
    "# Train the Logistic Regression classifier\n",
    "clf.fit(X_train, y_train)\n",
    "\n",
    "# Predict on the test set\n",
    "y_pred = clf.predict(X_test)\n",
    "\n",
    "# Calculate the accuracy of the model\n",
    "accuracy = accuracy_score(y_test, y_pred)\n",
    "print('Accuracy:', accuracy)\n"
   ]
  },
  {
   "cell_type": "code",
   "execution_count": 24,
   "id": "e4c83427",
   "metadata": {},
   "outputs": [
    {
     "name": "stderr",
     "output_type": "stream",
     "text": [
      "/home/seed/demo/notebookenv/lib/python3.10/site-packages/sklearn/cluster/_kmeans.py:870: FutureWarning: The default value of `n_init` will change from 10 to 'auto' in 1.4. Set the value of `n_init` explicitly to suppress the warning\n",
      "  warnings.warn(\n"
     ]
    },
    {
     "name": "stdout",
     "output_type": "stream",
     "text": [
      "Accuracy: 0.0\n"
     ]
    }
   ],
   "source": [
    "#K-means\n",
    "\n",
    "from sklearn.model_selection import train_test_split\n",
    "from sklearn.cluster import KMeans\n",
    "from sklearn.metrics import accuracy_score\n",
    "\n",
    "# Load the dataset\n",
    "data = pd.read_csv('encoded_file_50_encoded_only.csv')\n",
    "\n",
    "# Separate the features (X) from the target labels (y)\n",
    "X = data.drop('Label', axis=1)\n",
    "y = data['Label']\n",
    "\n",
    "# Split the data into training and testing sets\n",
    "X_train, X_test, y_train, y_test = train_test_split(X, y, test_size=0.1, random_state=42)\n",
    "\n",
    "# Create a K-means classifier\n",
    "kmeans = KMeans(n_clusters=2, random_state=42)\n",
    "\n",
    "# Train the K-means classifier\n",
    "kmeans.fit(X_train)\n",
    "\n",
    "# Predict cluster labels on the test set\n",
    "y_pred = kmeans.predict(X_test)\n",
    "\n",
    "# Convert cluster labels to class labels\n",
    "cluster_labels = {0: 'Class 0', 1: 'Class 1'}  # Modify this mapping as per your clustering results\n",
    "y_pred_mapped = [cluster_labels[label] for label in y_pred]\n",
    "\n",
    "# Calculate the accuracy of the model\n",
    "accuracy = accuracy_score(y_test, y_pred_mapped)\n",
    "print('Accuracy:', accuracy)\n"
   ]
  },
  {
   "cell_type": "code",
   "execution_count": null,
   "id": "b1a24451",
   "metadata": {},
   "outputs": [],
   "source": []
  }
 ],
 "metadata": {
  "kernelspec": {
   "display_name": "Python 3 (ipykernel)",
   "language": "python",
   "name": "python3"
  },
  "language_info": {
   "codemirror_mode": {
    "name": "ipython",
    "version": 3
   },
   "file_extension": ".py",
   "mimetype": "text/x-python",
   "name": "python",
   "nbconvert_exporter": "python",
   "pygments_lexer": "ipython3",
   "version": "3.10.6"
  }
 },
 "nbformat": 4,
 "nbformat_minor": 5
}
